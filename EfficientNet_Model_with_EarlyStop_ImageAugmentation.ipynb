{
  "cells": [
    {
      "cell_type": "code",
      "execution_count": 3,
      "metadata": {
        "id": "4e3-KTq8BKk4"
      },
      "outputs": [],
      "source": [
        "import matplotlib.pyplot as plt\n",
        "import numpy as np\n",
        "import pandas as pd\n",
        "import tensorflow\n",
        "\n",
        "from keras.layers import Dense, Conv2D, MaxPool2D, Dropout, Flatten, GlobalAveragePooling2D\n",
        "from keras.losses import categorical_crossentropy\n",
        "from keras.models import Sequential\n",
        "from keras.preprocessing.image import ImageDataGenerator\n",
        "\n",
        "from tensorflow.keras.applications import EfficientNetB0\n",
        "from tensorflow.keras.callbacks import EarlyStopping\n",
        "from tensorflow.keras.optimizers import Adam\n",
        "\n",
        "colab = True  # Type True if using Google Colab, type False if using Jupyter Notebook\n",
        "if colab:\n",
        "    from google.colab import drive\n",
        "    from zipfile import ZipFile\n",
        "\n",
        "tensorflow.random.set_seed(42)"
      ]
    },
    {
      "cell_type": "code",
      "execution_count": 4,
      "metadata": {
        "colab": {
          "base_uri": "https://localhost:8080/"
        },
        "id": "oAOiWd7oBKk6",
        "outputId": "e8f1de73-552b-4c5a-e4d5-c02a7659b5e8"
      },
      "outputs": [
        {
          "output_type": "stream",
          "name": "stdout",
          "text": [
            "Mounted at /content/drive\n"
          ]
        }
      ],
      "source": [
        "# Mounting Google Drive for use with Google Colab\n",
        "if colab:\n",
        "    drive.mount('/content/drive', force_remount=True)"
      ]
    },
    {
      "cell_type": "code",
      "execution_count": 5,
      "metadata": {
        "colab": {
          "base_uri": "https://localhost:8080/"
        },
        "id": "AqNVoXw1BKk6",
        "outputId": "0fd8bcc3-b092-4c36-f8c2-25ea1221d3cd"
      },
      "outputs": [
        {
          "output_type": "stream",
          "name": "stdout",
          "text": [
            "Unzipped Train Images file\n",
            "Unzipped Test Images file\n"
          ]
        }
      ],
      "source": [
        "# Creating file paths for use with Google Colab\n",
        "if colab:\n",
        "    train_features_path = 'drive/MyDrive/group_project_data/Train-Features/train_features copy.csv'\n",
        "    train_labels_path = 'drive/MyDrive/group_project_data/Train-Label/train_labels copy.csv'\n",
        "    test_features_path = 'drive/MyDrive/group_project_data/Test-Features/test_features copy.csv'\n",
        "    train_images_path = 'drive/MyDrive/group_project_data/Train-Images/train_features.zip'\n",
        "    test_images_path = 'drive/MyDrive/group_project_data/Test-Images/test_features.zip'\n",
        "    submission_format_path = 'drive/MyDrive/group_project_data/Submission-Format/submission_format.csv'\n",
        "\n",
        "\n",
        "    with ZipFile(train_images_path, 'r') as train_zip:\n",
        "        train_zip.extractall()\n",
        "        print('Unzipped Train Images file')\n",
        "\n",
        "    with ZipFile(test_images_path, 'r') as test_zip:\n",
        "        test_zip.extractall()\n",
        "        print('Unzipped Test Images file')"
      ]
    },
    {
      "cell_type": "code",
      "execution_count": 6,
      "metadata": {
        "id": "dDEYl4dMBKk7"
      },
      "outputs": [],
      "source": [
        "# Creating DataFrames from csv files\n",
        "if colab:\n",
        "    train_features = pd.read_csv(train_features_path)\n",
        "    train_labels = pd.read_csv(train_labels_path)\n",
        "    test_features = pd.read_csv(test_features_path)\n",
        "    submission_format = pd.read_csv(submission_format_path)\n",
        "\n",
        "else:\n",
        "    train_features = pd.read_csv('./data/train_features.csv')\n",
        "    train_labels = pd.read_csv('./data/train_labels.csv')\n",
        "    test_features = pd.read_csv('./data/test_features.csv')\n",
        "    submission_format = pd.read_csv('./data/submission_format.csv')"
      ]
    },
    {
      "cell_type": "code",
      "execution_count": 7,
      "metadata": {
        "colab": {
          "base_uri": "https://localhost:8080/",
          "height": 419
        },
        "id": "oeFZ-slQBKk7",
        "outputId": "499fff45-a291-42a7-9c1e-f4cfac40fca3"
      },
      "outputs": [
        {
          "output_type": "execute_result",
          "data": {
            "text/plain": [
              "             id                     filepath   site\n",
              "0      ZJ000000  train_features/ZJ000000.jpg  S0120\n",
              "1      ZJ000001  train_features/ZJ000001.jpg  S0069\n",
              "2      ZJ000002  train_features/ZJ000002.jpg  S0009\n",
              "3      ZJ000003  train_features/ZJ000003.jpg  S0008\n",
              "4      ZJ000004  train_features/ZJ000004.jpg  S0036\n",
              "...         ...                          ...    ...\n",
              "16483  ZJ016483  train_features/ZJ016483.jpg  S0093\n",
              "16484  ZJ016484  train_features/ZJ016484.jpg  S0043\n",
              "16485  ZJ016485  train_features/ZJ016485.jpg  S0089\n",
              "16486  ZJ016486  train_features/ZJ016486.jpg  S0095\n",
              "16487  ZJ016487  train_features/ZJ016487.jpg  S0021\n",
              "\n",
              "[16488 rows x 3 columns]"
            ],
            "text/html": [
              "\n",
              "  <div id=\"df-65846a85-64f2-44b5-9f38-d9987c0f23a5\">\n",
              "    <div class=\"colab-df-container\">\n",
              "      <div>\n",
              "<style scoped>\n",
              "    .dataframe tbody tr th:only-of-type {\n",
              "        vertical-align: middle;\n",
              "    }\n",
              "\n",
              "    .dataframe tbody tr th {\n",
              "        vertical-align: top;\n",
              "    }\n",
              "\n",
              "    .dataframe thead th {\n",
              "        text-align: right;\n",
              "    }\n",
              "</style>\n",
              "<table border=\"1\" class=\"dataframe\">\n",
              "  <thead>\n",
              "    <tr style=\"text-align: right;\">\n",
              "      <th></th>\n",
              "      <th>id</th>\n",
              "      <th>filepath</th>\n",
              "      <th>site</th>\n",
              "    </tr>\n",
              "  </thead>\n",
              "  <tbody>\n",
              "    <tr>\n",
              "      <th>0</th>\n",
              "      <td>ZJ000000</td>\n",
              "      <td>train_features/ZJ000000.jpg</td>\n",
              "      <td>S0120</td>\n",
              "    </tr>\n",
              "    <tr>\n",
              "      <th>1</th>\n",
              "      <td>ZJ000001</td>\n",
              "      <td>train_features/ZJ000001.jpg</td>\n",
              "      <td>S0069</td>\n",
              "    </tr>\n",
              "    <tr>\n",
              "      <th>2</th>\n",
              "      <td>ZJ000002</td>\n",
              "      <td>train_features/ZJ000002.jpg</td>\n",
              "      <td>S0009</td>\n",
              "    </tr>\n",
              "    <tr>\n",
              "      <th>3</th>\n",
              "      <td>ZJ000003</td>\n",
              "      <td>train_features/ZJ000003.jpg</td>\n",
              "      <td>S0008</td>\n",
              "    </tr>\n",
              "    <tr>\n",
              "      <th>4</th>\n",
              "      <td>ZJ000004</td>\n",
              "      <td>train_features/ZJ000004.jpg</td>\n",
              "      <td>S0036</td>\n",
              "    </tr>\n",
              "    <tr>\n",
              "      <th>...</th>\n",
              "      <td>...</td>\n",
              "      <td>...</td>\n",
              "      <td>...</td>\n",
              "    </tr>\n",
              "    <tr>\n",
              "      <th>16483</th>\n",
              "      <td>ZJ016483</td>\n",
              "      <td>train_features/ZJ016483.jpg</td>\n",
              "      <td>S0093</td>\n",
              "    </tr>\n",
              "    <tr>\n",
              "      <th>16484</th>\n",
              "      <td>ZJ016484</td>\n",
              "      <td>train_features/ZJ016484.jpg</td>\n",
              "      <td>S0043</td>\n",
              "    </tr>\n",
              "    <tr>\n",
              "      <th>16485</th>\n",
              "      <td>ZJ016485</td>\n",
              "      <td>train_features/ZJ016485.jpg</td>\n",
              "      <td>S0089</td>\n",
              "    </tr>\n",
              "    <tr>\n",
              "      <th>16486</th>\n",
              "      <td>ZJ016486</td>\n",
              "      <td>train_features/ZJ016486.jpg</td>\n",
              "      <td>S0095</td>\n",
              "    </tr>\n",
              "    <tr>\n",
              "      <th>16487</th>\n",
              "      <td>ZJ016487</td>\n",
              "      <td>train_features/ZJ016487.jpg</td>\n",
              "      <td>S0021</td>\n",
              "    </tr>\n",
              "  </tbody>\n",
              "</table>\n",
              "<p>16488 rows × 3 columns</p>\n",
              "</div>\n",
              "      <button class=\"colab-df-convert\" onclick=\"convertToInteractive('df-65846a85-64f2-44b5-9f38-d9987c0f23a5')\"\n",
              "              title=\"Convert this dataframe to an interactive table.\"\n",
              "              style=\"display:none;\">\n",
              "        \n",
              "  <svg xmlns=\"http://www.w3.org/2000/svg\" height=\"24px\"viewBox=\"0 0 24 24\"\n",
              "       width=\"24px\">\n",
              "    <path d=\"M0 0h24v24H0V0z\" fill=\"none\"/>\n",
              "    <path d=\"M18.56 5.44l.94 2.06.94-2.06 2.06-.94-2.06-.94-.94-2.06-.94 2.06-2.06.94zm-11 1L8.5 8.5l.94-2.06 2.06-.94-2.06-.94L8.5 2.5l-.94 2.06-2.06.94zm10 10l.94 2.06.94-2.06 2.06-.94-2.06-.94-.94-2.06-.94 2.06-2.06.94z\"/><path d=\"M17.41 7.96l-1.37-1.37c-.4-.4-.92-.59-1.43-.59-.52 0-1.04.2-1.43.59L10.3 9.45l-7.72 7.72c-.78.78-.78 2.05 0 2.83L4 21.41c.39.39.9.59 1.41.59.51 0 1.02-.2 1.41-.59l7.78-7.78 2.81-2.81c.8-.78.8-2.07 0-2.86zM5.41 20L4 18.59l7.72-7.72 1.47 1.35L5.41 20z\"/>\n",
              "  </svg>\n",
              "      </button>\n",
              "      \n",
              "  <style>\n",
              "    .colab-df-container {\n",
              "      display:flex;\n",
              "      flex-wrap:wrap;\n",
              "      gap: 12px;\n",
              "    }\n",
              "\n",
              "    .colab-df-convert {\n",
              "      background-color: #E8F0FE;\n",
              "      border: none;\n",
              "      border-radius: 50%;\n",
              "      cursor: pointer;\n",
              "      display: none;\n",
              "      fill: #1967D2;\n",
              "      height: 32px;\n",
              "      padding: 0 0 0 0;\n",
              "      width: 32px;\n",
              "    }\n",
              "\n",
              "    .colab-df-convert:hover {\n",
              "      background-color: #E2EBFA;\n",
              "      box-shadow: 0px 1px 2px rgba(60, 64, 67, 0.3), 0px 1px 3px 1px rgba(60, 64, 67, 0.15);\n",
              "      fill: #174EA6;\n",
              "    }\n",
              "\n",
              "    [theme=dark] .colab-df-convert {\n",
              "      background-color: #3B4455;\n",
              "      fill: #D2E3FC;\n",
              "    }\n",
              "\n",
              "    [theme=dark] .colab-df-convert:hover {\n",
              "      background-color: #434B5C;\n",
              "      box-shadow: 0px 1px 3px 1px rgba(0, 0, 0, 0.15);\n",
              "      filter: drop-shadow(0px 1px 2px rgba(0, 0, 0, 0.3));\n",
              "      fill: #FFFFFF;\n",
              "    }\n",
              "  </style>\n",
              "\n",
              "      <script>\n",
              "        const buttonEl =\n",
              "          document.querySelector('#df-65846a85-64f2-44b5-9f38-d9987c0f23a5 button.colab-df-convert');\n",
              "        buttonEl.style.display =\n",
              "          google.colab.kernel.accessAllowed ? 'block' : 'none';\n",
              "\n",
              "        async function convertToInteractive(key) {\n",
              "          const element = document.querySelector('#df-65846a85-64f2-44b5-9f38-d9987c0f23a5');\n",
              "          const dataTable =\n",
              "            await google.colab.kernel.invokeFunction('convertToInteractive',\n",
              "                                                     [key], {});\n",
              "          if (!dataTable) return;\n",
              "\n",
              "          const docLinkHtml = 'Like what you see? Visit the ' +\n",
              "            '<a target=\"_blank\" href=https://colab.research.google.com/notebooks/data_table.ipynb>data table notebook</a>'\n",
              "            + ' to learn more about interactive tables.';\n",
              "          element.innerHTML = '';\n",
              "          dataTable['output_type'] = 'display_data';\n",
              "          await google.colab.output.renderOutput(dataTable, element);\n",
              "          const docLink = document.createElement('div');\n",
              "          docLink.innerHTML = docLinkHtml;\n",
              "          element.appendChild(docLink);\n",
              "        }\n",
              "      </script>\n",
              "    </div>\n",
              "  </div>\n",
              "  "
            ]
          },
          "metadata": {},
          "execution_count": 7
        }
      ],
      "source": [
        "train_features"
      ]
    },
    {
      "cell_type": "code",
      "execution_count": 8,
      "metadata": {
        "id": "5cWUuXV7BKk8"
      },
      "outputs": [],
      "source": [
        "def merge_animals(df):\n",
        "    \"\"\"_summary_\n",
        "\n",
        "    Args:\n",
        "        df (_type_): _description_\n",
        "\n",
        "    Returns:\n",
        "        _type_: _description_\n",
        "    \"\"\"\n",
        "    df_copy = df.copy() # copy df\n",
        "    columns = df_copy.columns # get column names\n",
        "    df_copy['animal_classification'] = np.where(df_copy.values)[1]+1 # add a numeric value to each column\n",
        "    df_copy.drop(columns ,axis=1, inplace=True) # drop columns that were just combined\n",
        "    return df_copy\n",
        "#                ['antelope_duiker', 'bird', 'blank', 'civet_genet', 'hog', 'leopard', 'monkey_prosimian', 'rodent']\n",
        "# Classification:           1           2        3           4          5        6              7               8"
      ]
    },
    {
      "cell_type": "code",
      "execution_count": 9,
      "metadata": {
        "id": "jHboNY8zBKk8"
      },
      "outputs": [],
      "source": [
        "# combine train df's on id\n",
        "train = pd.merge(left=train_features, right=train_labels, on='id') \n",
        "\n",
        "# see function in above cell\n",
        "train['animal_classification'] = merge_animals(train[['antelope_duiker', 'bird', 'blank', 'civet_genet', 'hog', 'leopard', 'monkey_prosimian', 'rodent']]) \n",
        "# done in function above ^ might need \n",
        "# train.drop(['antelope_duiker', 'bird', 'blank', 'civet_genet', 'hog', 'leopard', 'monkey_prosimian', 'rodent'] ,axis=1, inplace=True) # drop\n",
        "\n",
        "# rename numeric observations to actual classifications\n",
        "train['animal_classification'] = train['animal_classification'].map({1:'antelope_duiker', 2:'bird', 3:'blank', 4:'civet_genet', 5:'hog', 6:'leopard', 7:'monkey_prosimian', 8:'rodent'})\n",
        "\n",
        "# split file path column to get file names\n",
        "temp = train['filepath'].str.split(pat='/',expand=True)\n",
        "# rename split columns\n",
        "temp.rename(columns={0: 'old_folder_location', 1: 'filename'}, inplace=True)\n",
        "\n",
        "# concat columns and original df\n",
        "train = pd.concat([train, temp], axis=1).drop(columns=['filepath'],axis=1)\n"
      ]
    },
    {
      "cell_type": "code",
      "execution_count": 10,
      "metadata": {
        "id": "5AodvywPBKk9"
      },
      "outputs": [],
      "source": [
        "# make validation set\n",
        "validation_set = train[(train['site']=='S0009') | (train['site']=='S0043')| (train['site']=='S0059') |(train['site']== 'S0026')] # get validation set for 2 sites\n",
        "# make training set\n",
        "train_set = train[~train.isin(validation_set)].dropna() # remove the observations from train that are in the validation set"
      ]
    },
    {
      "cell_type": "code",
      "execution_count": 11,
      "metadata": {
        "tags": [],
        "colab": {
          "base_uri": "https://localhost:8080/"
        },
        "id": "FqeP7OKoBKk9",
        "outputId": "7eb9b200-08ee-4c3f-929c-491f792cd490"
      },
      "outputs": [
        {
          "output_type": "execute_result",
          "data": {
            "text/plain": [
              "monkey_prosimian    0.187879\n",
              "leopard             0.168485\n",
              "rodent              0.146667\n",
              "bird                0.142424\n",
              "civet_genet         0.122424\n",
              "hog                 0.113939\n",
              "antelope_duiker     0.064848\n",
              "blank               0.053333\n",
              "Name: animal_classification, dtype: float64"
            ]
          },
          "metadata": {},
          "execution_count": 11
        }
      ],
      "source": [
        "validation_set['animal_classification'].value_counts(normalize=True)"
      ]
    },
    {
      "cell_type": "code",
      "execution_count": 12,
      "metadata": {
        "id": "oduNXGcTBKk-"
      },
      "outputs": [],
      "source": [
        "train_images = '/content/train_features'\n",
        "test_images = '/content/test_features'"
      ]
    },
    {
      "cell_type": "code",
      "execution_count": 13,
      "metadata": {
        "colab": {
          "base_uri": "https://localhost:8080/"
        },
        "id": "gAMl2VL9BKk-",
        "outputId": "6ea1c732-3b38-4128-c111-1120bfafef2c"
      },
      "outputs": [
        {
          "output_type": "stream",
          "name": "stdout",
          "text": [
            "Found 1650 validated image filenames belonging to 8 classes.\n",
            "Found 14838 validated image filenames belonging to 8 classes.\n"
          ]
        }
      ],
      "source": [
        "# Creating an ImageDataGenerator\n",
        "if colab:\n",
        "    img_gen = ImageDataGenerator(brightness_range=[0.2,1.0])\n",
        "    val_generator = img_gen.flow_from_dataframe(\n",
        "        validation_set, \n",
        "        directory=train_images, \n",
        "        x_col='filename', \n",
        "        y_col='animal_classification', \n",
        "        target_size=(256, 256), \n",
        "        class_mode='categorical',\n",
        "        batch_size=32\n",
        ")\n",
        "    train_generator = img_gen.flow_from_dataframe(\n",
        "        train_set, \n",
        "        directory=train_images, \n",
        "        x_col='filename', \n",
        "        y_col='animal_classification', \n",
        "        target_size=(256, 256), \n",
        "        class_mode='categorical',\n",
        "        batch_size=64\n",
        ")\n",
        "else:\n",
        "    img_gen = ImageDataGenerator()\n",
        "    val_generator = img_gen.flow_from_dataframe(\n",
        "        validation_set, \n",
        "        directory='./data/train_features_img', \n",
        "        x_col='filename', \n",
        "        y_col='animal_classification', \n",
        "        target_size=(256, 256), \n",
        "        class_mode='categorical',\n",
        "        batch_size=32\n",
        ")\n",
        "    train_generator = img_gen.flow_from_dataframe(\n",
        "        train_set, \n",
        "        directory='./data/train_features_img', \n",
        "        x_col='filename', \n",
        "        y_col='animal_classification', \n",
        "        target_size=(256, 256), \n",
        "        class_mode='categorical',\n",
        "        batch_size=64\n",
        ")"
      ]
    },
    {
      "cell_type": "code",
      "execution_count": 14,
      "metadata": {
        "id": "61hUJe9yBKk_"
      },
      "outputs": [],
      "source": [
        "def plot_metrics(model_fit):\n",
        "    metrics = ['accuracy', 'precision', 'recall']\n",
        "    for i in metrics:\n",
        "        plt.plot(model_fit.history[i], label='Train')\n",
        "        plt.plot(model_fit.history[f'val_{i}'], label='Test')\n",
        "        plt.ylabel(i)\n",
        "        plt.xlabel('Epochs')\n",
        "        plt.legend()\n",
        "        plt.show()"
      ]
    },
    {
      "cell_type": "code",
      "execution_count": 15,
      "metadata": {
        "id": "CaXO9Bo1BKk_",
        "colab": {
          "base_uri": "https://localhost:8080/"
        },
        "outputId": "bfeaa268-3254-4535-9b03-5e0791bd2c03"
      },
      "outputs": [
        {
          "output_type": "stream",
          "name": "stdout",
          "text": [
            "Downloading data from https://storage.googleapis.com/keras-applications/efficientnetb0_notop.h5\n",
            "16711680/16705208 [==============================] - 0s 0us/step\n",
            "16719872/16705208 [==============================] - 0s 0us/step\n"
          ]
        }
      ],
      "source": [
        "effnet = EfficientNetB0(include_top=False, weights='imagenet')\n",
        "effnet.trainable = False"
      ]
    },
    {
      "cell_type": "code",
      "execution_count": 16,
      "metadata": {
        "id": "RWjKOA1kBKk_"
      },
      "outputs": [],
      "source": [
        "model_es = Sequential()\n",
        "model_es.add(effnet)\n",
        "model_es.add(GlobalAveragePooling2D())\n",
        "model_es.add(Dense(8, activation='softmax'))"
      ]
    },
    {
      "cell_type": "code",
      "execution_count": 17,
      "metadata": {
        "id": "lwvfCFQqBKk_"
      },
      "outputs": [],
      "source": [
        "model_es.compile(optimizer=Adam(learning_rate=.0001), loss='categorical_crossentropy', metrics=['accuracy', 'Recall', 'Precision'])"
      ]
    },
    {
      "cell_type": "code",
      "execution_count": 18,
      "metadata": {
        "id": "nDXDi7q8BKlA"
      },
      "outputs": [],
      "source": [
        "early_stop = EarlyStopping(monitor = 'val_loss',\n",
        "                          min_delta = 0,\n",
        "                          patience = 5,\n",
        "                          verbose = 1)"
      ]
    },
    {
      "cell_type": "code",
      "execution_count": 19,
      "metadata": {
        "colab": {
          "base_uri": "https://localhost:8080/"
        },
        "id": "P2BYfgnPBKlB",
        "outputId": "bc3c3272-2a00-4ab1-e464-0f6c8eb6e3b8"
      },
      "outputs": [
        {
          "output_type": "stream",
          "name": "stdout",
          "text": [
            "Epoch 1/50\n",
            "232/232 [==============================] - 120s 450ms/step - loss: 1.8784 - accuracy: 0.2826 - recall: 0.0120 - precision: 0.9036 - val_loss: 1.8153 - val_accuracy: 0.3182 - val_recall: 0.0909 - val_precision: 0.5682\n",
            "Epoch 2/50\n",
            "232/232 [==============================] - 105s 451ms/step - loss: 1.6232 - accuracy: 0.4015 - recall: 0.0652 - precision: 0.8799 - val_loss: 1.6745 - val_accuracy: 0.3800 - val_recall: 0.1291 - val_precision: 0.6320\n",
            "Epoch 3/50\n",
            "232/232 [==============================] - 104s 448ms/step - loss: 1.5088 - accuracy: 0.4464 - recall: 0.1165 - precision: 0.8492 - val_loss: 1.6130 - val_accuracy: 0.3752 - val_recall: 0.1455 - val_precision: 0.6400\n",
            "Epoch 4/50\n",
            "232/232 [==============================] - 103s 445ms/step - loss: 1.4389 - accuracy: 0.4759 - recall: 0.1509 - precision: 0.8569 - val_loss: 1.5735 - val_accuracy: 0.3964 - val_recall: 0.1552 - val_precision: 0.6259\n",
            "Epoch 5/50\n",
            "232/232 [==============================] - 104s 448ms/step - loss: 1.3969 - accuracy: 0.4896 - recall: 0.1717 - precision: 0.8456 - val_loss: 1.5430 - val_accuracy: 0.4048 - val_recall: 0.1703 - val_precision: 0.6017\n",
            "Epoch 6/50\n",
            "232/232 [==============================] - 103s 442ms/step - loss: 1.3551 - accuracy: 0.5055 - recall: 0.1987 - precision: 0.8533 - val_loss: 1.5163 - val_accuracy: 0.4182 - val_recall: 0.1861 - val_precision: 0.5961\n",
            "Epoch 7/50\n",
            "232/232 [==============================] - 102s 438ms/step - loss: 1.3232 - accuracy: 0.5208 - recall: 0.2202 - precision: 0.8462 - val_loss: 1.5030 - val_accuracy: 0.4036 - val_recall: 0.1970 - val_precision: 0.5762\n",
            "Epoch 8/50\n",
            "232/232 [==============================] - 102s 438ms/step - loss: 1.3015 - accuracy: 0.5219 - recall: 0.2354 - precision: 0.8474 - val_loss: 1.4972 - val_accuracy: 0.4224 - val_recall: 0.2055 - val_precision: 0.5906\n",
            "Epoch 9/50\n",
            "232/232 [==============================] - 102s 440ms/step - loss: 1.2795 - accuracy: 0.5363 - recall: 0.2510 - precision: 0.8422 - val_loss: 1.4919 - val_accuracy: 0.4206 - val_recall: 0.2127 - val_precision: 0.5811\n",
            "Epoch 10/50\n",
            "232/232 [==============================] - 101s 435ms/step - loss: 1.2641 - accuracy: 0.5388 - recall: 0.2617 - precision: 0.8421 - val_loss: 1.4837 - val_accuracy: 0.4321 - val_recall: 0.2121 - val_precision: 0.5952\n",
            "Epoch 11/50\n",
            "232/232 [==============================] - 100s 430ms/step - loss: 1.2440 - accuracy: 0.5463 - recall: 0.2701 - precision: 0.8443 - val_loss: 1.4889 - val_accuracy: 0.4188 - val_recall: 0.2158 - val_precision: 0.5751\n",
            "Epoch 12/50\n",
            "232/232 [==============================] - 102s 437ms/step - loss: 1.2310 - accuracy: 0.5497 - recall: 0.2800 - precision: 0.8483 - val_loss: 1.4831 - val_accuracy: 0.4212 - val_recall: 0.2279 - val_precision: 0.5820\n",
            "Epoch 13/50\n",
            "232/232 [==============================] - 101s 437ms/step - loss: 1.2185 - accuracy: 0.5527 - recall: 0.2899 - precision: 0.8447 - val_loss: 1.4869 - val_accuracy: 0.4164 - val_recall: 0.2279 - val_precision: 0.5794\n",
            "Epoch 14/50\n",
            "232/232 [==============================] - 101s 436ms/step - loss: 1.2040 - accuracy: 0.5654 - recall: 0.2968 - precision: 0.8482 - val_loss: 1.4855 - val_accuracy: 0.4176 - val_recall: 0.2291 - val_precision: 0.5780\n",
            "Epoch 15/50\n",
            "232/232 [==============================] - 102s 437ms/step - loss: 1.1946 - accuracy: 0.5653 - recall: 0.3039 - precision: 0.8514 - val_loss: 1.5010 - val_accuracy: 0.4194 - val_recall: 0.2291 - val_precision: 0.5842\n",
            "Epoch 16/50\n",
            "232/232 [==============================] - 101s 435ms/step - loss: 1.1849 - accuracy: 0.5725 - recall: 0.3101 - precision: 0.8399 - val_loss: 1.4816 - val_accuracy: 0.4333 - val_recall: 0.2309 - val_precision: 0.5790\n",
            "Epoch 17/50\n",
            "232/232 [==============================] - 101s 434ms/step - loss: 1.1742 - accuracy: 0.5770 - recall: 0.3193 - precision: 0.8450 - val_loss: 1.4757 - val_accuracy: 0.4309 - val_recall: 0.2370 - val_precision: 0.5750\n",
            "Epoch 18/50\n",
            "232/232 [==============================] - 101s 434ms/step - loss: 1.1615 - accuracy: 0.5830 - recall: 0.3248 - precision: 0.8438 - val_loss: 1.4863 - val_accuracy: 0.4182 - val_recall: 0.2273 - val_precision: 0.5725\n",
            "Epoch 19/50\n",
            "232/232 [==============================] - 102s 439ms/step - loss: 1.1578 - accuracy: 0.5784 - recall: 0.3252 - precision: 0.8460 - val_loss: 1.5048 - val_accuracy: 0.4079 - val_recall: 0.2303 - val_precision: 0.5621\n",
            "Epoch 20/50\n",
            "232/232 [==============================] - 101s 435ms/step - loss: 1.1504 - accuracy: 0.5805 - recall: 0.3337 - precision: 0.8437 - val_loss: 1.4937 - val_accuracy: 0.4164 - val_recall: 0.2388 - val_precision: 0.5743\n",
            "Epoch 21/50\n",
            "232/232 [==============================] - 100s 431ms/step - loss: 1.1369 - accuracy: 0.5879 - recall: 0.3401 - precision: 0.8492 - val_loss: 1.4997 - val_accuracy: 0.4176 - val_recall: 0.2485 - val_precision: 0.5710\n",
            "Epoch 22/50\n",
            "232/232 [==============================] - 101s 435ms/step - loss: 1.1322 - accuracy: 0.5894 - recall: 0.3438 - precision: 0.8512 - val_loss: 1.5014 - val_accuracy: 0.4170 - val_recall: 0.2436 - val_precision: 0.5686\n",
            "Epoch 22: early stopping\n"
          ]
        }
      ],
      "source": [
        "history_es = model_es.fit(\n",
        "    train_generator,\n",
        "    batch_size=64,\n",
        "    epochs=50,\n",
        "    validation_data=val_generator,\n",
        "    callbacks = [early_stop]\n",
        ")"
      ]
    },
    {
      "cell_type": "code",
      "execution_count": 20,
      "metadata": {
        "colab": {
          "base_uri": "https://localhost:8080/",
          "height": 804
        },
        "id": "ChK8yQOVBKlB",
        "outputId": "2ca94e8f-ec90-4c13-c3f2-59944d396fe3"
      },
      "outputs": [
        {
          "output_type": "display_data",
          "data": {
            "text/plain": [
              "<Figure size 432x288 with 1 Axes>"
            ],
            "image/png": "[encoded data removed]"
          },
          "metadata": {
            "needs_background": "light"
          }
        },
        {
          "output_type": "display_data",
          "data": {
            "text/plain": [
              "<Figure size 432x288 with 1 Axes>"
            ],
            "image/png": "[encoded data removed]"
          },
          "metadata": {
            "needs_background": "light"
          }
        },
        {
          "output_type": "display_data",
          "data": {
            "text/plain": [
              "<Figure size 432x288 with 1 Axes>"
            ],
            "image/png": "[encoded data removed]"
          },
          "metadata": {
            "needs_background": "light"
          }
        }
      ],
      "source": [
        "plot_metrics(history_es)"
      ]
    }
  ],
  "metadata": {
    "interpreter": {
      "hash": "d1e6c26adc8bad395b004c18f56e59eec4f16088a73327fc7833d1c5c445ad10"
    },
    "kernelspec": {
      "display_name": "Python 3 (ipykernel)",
      "language": "python",
      "name": "python3"
    },
    "language_info": {
      "codemirror_mode": {
        "name": "ipython",
        "version": 3
      },
      "file_extension": ".py",
      "mimetype": "text/x-python",
      "name": "python",
      "nbconvert_exporter": "python",
      "pygments_lexer": "ipython3",
      "version": "3.9.12"
    },
    "colab": {
      "name": "EfficientNet_Model_with_EarlyStop_ImageAugmentation.ipynb",
      "provenance": [],
      "collapsed_sections": [],
      "machine_shape": "hm",
      "background_execution": "on"
    },
    "accelerator": "GPU"
  },
  "nbformat": 4,
  "nbformat_minor": 0
}