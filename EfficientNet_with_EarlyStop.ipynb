{
  "cells": [
    {
      "cell_type": "code",
      "execution_count": 1,
      "metadata": {
        "id": "4e3-KTq8BKk4"
      },
      "outputs": [],
      "source": [
        "import matplotlib.pyplot as plt\n",
        "import numpy as np\n",
        "import pandas as pd\n",
        "import tensorflow\n",
        "\n",
        "from keras.layers import Dense, Conv2D, MaxPool2D, Dropout, Flatten, GlobalAveragePooling2D\n",
        "from keras.losses import categorical_crossentropy\n",
        "from keras.models import Sequential\n",
        "from keras.preprocessing.image import ImageDataGenerator\n",
        "\n",
        "from tensorflow.keras.applications import EfficientNetB0\n",
        "from tensorflow.keras.callbacks import EarlyStopping\n",
        "from tensorflow.keras.optimizers import Adam\n",
        "\n",
        "colab = True  # Type True if using Google Colab, type False if using Jupyter Notebook\n",
        "if colab:\n",
        "    from google.colab import drive\n",
        "    from zipfile import ZipFile\n",
        "\n",
        "tensorflow.random.set_seed(42)"
      ]
    },
    {
      "cell_type": "code",
      "execution_count": 2,
      "metadata": {
        "colab": {
          "base_uri": "https://localhost:8080/"
        },
        "id": "oAOiWd7oBKk6",
        "outputId": "c280a8c9-ccfd-45a7-ee42-a148dc6bf67c"
      },
      "outputs": [
        {
          "output_type": "stream",
          "name": "stdout",
          "text": [
            "Mounted at /content/drive\n"
          ]
        }
      ],
      "source": [
        "# Mounting Google Drive for use with Google Colab\n",
        "if colab:\n",
        "    drive.mount('/content/drive', force_remount=True)"
      ]
    },
    {
      "cell_type": "code",
      "execution_count": 3,
      "metadata": {
        "colab": {
          "base_uri": "https://localhost:8080/"
        },
        "id": "AqNVoXw1BKk6",
        "outputId": "3173b50c-46cb-4c94-c989-60deacf0a5fe"
      },
      "outputs": [
        {
          "output_type": "stream",
          "name": "stdout",
          "text": [
            "Unzipped Train Images file\n",
            "Unzipped Test Images file\n"
          ]
        }
      ],
      "source": [
        "# Creating file paths for use with Google Colab\n",
        "if colab:\n",
        "    train_features_path = 'drive/MyDrive/group_project_data/Train-Features/train_features copy.csv'\n",
        "    train_labels_path = 'drive/MyDrive/group_project_data/Train-Label/train_labels copy.csv'\n",
        "    test_features_path = 'drive/MyDrive/group_project_data/Test-Features/test_features copy.csv'\n",
        "    train_images_path = 'drive/MyDrive/group_project_data/Train-Images/train_features.zip'\n",
        "    test_images_path = 'drive/MyDrive/group_project_data/Test-Images/test_features.zip'\n",
        "\n",
        "    with ZipFile(train_images_path, 'r') as train_zip:\n",
        "        train_zip.extractall()\n",
        "        print('Unzipped Train Images file')\n",
        "\n",
        "    with ZipFile(test_images_path, 'r') as test_zip:\n",
        "        test_zip.extractall()\n",
        "        print('Unzipped Test Images file')"
      ]
    },
    {
      "cell_type": "code",
      "execution_count": 4,
      "metadata": {
        "id": "dDEYl4dMBKk7"
      },
      "outputs": [],
      "source": [
        "# Creating DataFrames from csv files\n",
        "if colab:\n",
        "    train_features = pd.read_csv(train_features_path)\n",
        "    train_labels = pd.read_csv(train_labels_path)\n",
        "    test_features = pd.read_csv(test_features_path)\n",
        "else:\n",
        "    train_features = pd.read_csv('./data/train_features.csv')\n",
        "    train_labels = pd.read_csv('./data/train_labels.csv')\n",
        "    test_features = pd.read_csv('./data/test_features.csv')"
      ]
    },
    {
      "cell_type": "code",
      "execution_count": 5,
      "metadata": {
        "colab": {
          "base_uri": "https://localhost:8080/",
          "height": 419
        },
        "id": "oeFZ-slQBKk7",
        "outputId": "3e06e8fd-306e-4c27-b2a5-c957ec319bd7"
      },
      "outputs": [
        {
          "output_type": "execute_result",
          "data": {
            "text/plain": [
              "             id                     filepath   site\n",
              "0      ZJ000000  train_features/ZJ000000.jpg  S0120\n",
              "1      ZJ000001  train_features/ZJ000001.jpg  S0069\n",
              "2      ZJ000002  train_features/ZJ000002.jpg  S0009\n",
              "3      ZJ000003  train_features/ZJ000003.jpg  S0008\n",
              "4      ZJ000004  train_features/ZJ000004.jpg  S0036\n",
              "...         ...                          ...    ...\n",
              "16483  ZJ016483  train_features/ZJ016483.jpg  S0093\n",
              "16484  ZJ016484  train_features/ZJ016484.jpg  S0043\n",
              "16485  ZJ016485  train_features/ZJ016485.jpg  S0089\n",
              "16486  ZJ016486  train_features/ZJ016486.jpg  S0095\n",
              "16487  ZJ016487  train_features/ZJ016487.jpg  S0021\n",
              "\n",
              "[16488 rows x 3 columns]"
            ],
            "text/html": [
              "\n",
              "  <div id=\"df-422925d2-0d4b-4013-9f4a-a81e2c119e17\">\n",
              "    <div class=\"colab-df-container\">\n",
              "      <div>\n",
              "<style scoped>\n",
              "    .dataframe tbody tr th:only-of-type {\n",
              "        vertical-align: middle;\n",
              "    }\n",
              "\n",
              "    .dataframe tbody tr th {\n",
              "        vertical-align: top;\n",
              "    }\n",
              "\n",
              "    .dataframe thead th {\n",
              "        text-align: right;\n",
              "    }\n",
              "</style>\n",
              "<table border=\"1\" class=\"dataframe\">\n",
              "  <thead>\n",
              "    <tr style=\"text-align: right;\">\n",
              "      <th></th>\n",
              "      <th>id</th>\n",
              "      <th>filepath</th>\n",
              "      <th>site</th>\n",
              "    </tr>\n",
              "  </thead>\n",
              "  <tbody>\n",
              "    <tr>\n",
              "      <th>0</th>\n",
              "      <td>ZJ000000</td>\n",
              "      <td>train_features/ZJ000000.jpg</td>\n",
              "      <td>S0120</td>\n",
              "    </tr>\n",
              "    <tr>\n",
              "      <th>1</th>\n",
              "      <td>ZJ000001</td>\n",
              "      <td>train_features/ZJ000001.jpg</td>\n",
              "      <td>S0069</td>\n",
              "    </tr>\n",
              "    <tr>\n",
              "      <th>2</th>\n",
              "      <td>ZJ000002</td>\n",
              "      <td>train_features/ZJ000002.jpg</td>\n",
              "      <td>S0009</td>\n",
              "    </tr>\n",
              "    <tr>\n",
              "      <th>3</th>\n",
              "      <td>ZJ000003</td>\n",
              "      <td>train_features/ZJ000003.jpg</td>\n",
              "      <td>S0008</td>\n",
              "    </tr>\n",
              "    <tr>\n",
              "      <th>4</th>\n",
              "      <td>ZJ000004</td>\n",
              "      <td>train_features/ZJ000004.jpg</td>\n",
              "      <td>S0036</td>\n",
              "    </tr>\n",
              "    <tr>\n",
              "      <th>...</th>\n",
              "      <td>...</td>\n",
              "      <td>...</td>\n",
              "      <td>...</td>\n",
              "    </tr>\n",
              "    <tr>\n",
              "      <th>16483</th>\n",
              "      <td>ZJ016483</td>\n",
              "      <td>train_features/ZJ016483.jpg</td>\n",
              "      <td>S0093</td>\n",
              "    </tr>\n",
              "    <tr>\n",
              "      <th>16484</th>\n",
              "      <td>ZJ016484</td>\n",
              "      <td>train_features/ZJ016484.jpg</td>\n",
              "      <td>S0043</td>\n",
              "    </tr>\n",
              "    <tr>\n",
              "      <th>16485</th>\n",
              "      <td>ZJ016485</td>\n",
              "      <td>train_features/ZJ016485.jpg</td>\n",
              "      <td>S0089</td>\n",
              "    </tr>\n",
              "    <tr>\n",
              "      <th>16486</th>\n",
              "      <td>ZJ016486</td>\n",
              "      <td>train_features/ZJ016486.jpg</td>\n",
              "      <td>S0095</td>\n",
              "    </tr>\n",
              "    <tr>\n",
              "      <th>16487</th>\n",
              "      <td>ZJ016487</td>\n",
              "      <td>train_features/ZJ016487.jpg</td>\n",
              "      <td>S0021</td>\n",
              "    </tr>\n",
              "  </tbody>\n",
              "</table>\n",
              "<p>16488 rows × 3 columns</p>\n",
              "</div>\n",
              "      <button class=\"colab-df-convert\" onclick=\"convertToInteractive('df-422925d2-0d4b-4013-9f4a-a81e2c119e17')\"\n",
              "              title=\"Convert this dataframe to an interactive table.\"\n",
              "              style=\"display:none;\">\n",
              "        \n",
              "  <svg xmlns=\"http://www.w3.org/2000/svg\" height=\"24px\"viewBox=\"0 0 24 24\"\n",
              "       width=\"24px\">\n",
              "    <path d=\"M0 0h24v24H0V0z\" fill=\"none\"/>\n",
              "    <path d=\"M18.56 5.44l.94 2.06.94-2.06 2.06-.94-2.06-.94-.94-2.06-.94 2.06-2.06.94zm-11 1L8.5 8.5l.94-2.06 2.06-.94-2.06-.94L8.5 2.5l-.94 2.06-2.06.94zm10 10l.94 2.06.94-2.06 2.06-.94-2.06-.94-.94-2.06-.94 2.06-2.06.94z\"/><path d=\"M17.41 7.96l-1.37-1.37c-.4-.4-.92-.59-1.43-.59-.52 0-1.04.2-1.43.59L10.3 9.45l-7.72 7.72c-.78.78-.78 2.05 0 2.83L4 21.41c.39.39.9.59 1.41.59.51 0 1.02-.2 1.41-.59l7.78-7.78 2.81-2.81c.8-.78.8-2.07 0-2.86zM5.41 20L4 18.59l7.72-7.72 1.47 1.35L5.41 20z\"/>\n",
              "  </svg>\n",
              "      </button>\n",
              "      \n",
              "  <style>\n",
              "    .colab-df-container {\n",
              "      display:flex;\n",
              "      flex-wrap:wrap;\n",
              "      gap: 12px;\n",
              "    }\n",
              "\n",
              "    .colab-df-convert {\n",
              "      background-color: #E8F0FE;\n",
              "      border: none;\n",
              "      border-radius: 50%;\n",
              "      cursor: pointer;\n",
              "      display: none;\n",
              "      fill: #1967D2;\n",
              "      height: 32px;\n",
              "      padding: 0 0 0 0;\n",
              "      width: 32px;\n",
              "    }\n",
              "\n",
              "    .colab-df-convert:hover {\n",
              "      background-color: #E2EBFA;\n",
              "      box-shadow: 0px 1px 2px rgba(60, 64, 67, 0.3), 0px 1px 3px 1px rgba(60, 64, 67, 0.15);\n",
              "      fill: #174EA6;\n",
              "    }\n",
              "\n",
              "    [theme=dark] .colab-df-convert {\n",
              "      background-color: #3B4455;\n",
              "      fill: #D2E3FC;\n",
              "    }\n",
              "\n",
              "    [theme=dark] .colab-df-convert:hover {\n",
              "      background-color: #434B5C;\n",
              "      box-shadow: 0px 1px 3px 1px rgba(0, 0, 0, 0.15);\n",
              "      filter: drop-shadow(0px 1px 2px rgba(0, 0, 0, 0.3));\n",
              "      fill: #FFFFFF;\n",
              "    }\n",
              "  </style>\n",
              "\n",
              "      <script>\n",
              "        const buttonEl =\n",
              "          document.querySelector('#df-422925d2-0d4b-4013-9f4a-a81e2c119e17 button.colab-df-convert');\n",
              "        buttonEl.style.display =\n",
              "          google.colab.kernel.accessAllowed ? 'block' : 'none';\n",
              "\n",
              "        async function convertToInteractive(key) {\n",
              "          const element = document.querySelector('#df-422925d2-0d4b-4013-9f4a-a81e2c119e17');\n",
              "          const dataTable =\n",
              "            await google.colab.kernel.invokeFunction('convertToInteractive',\n",
              "                                                     [key], {});\n",
              "          if (!dataTable) return;\n",
              "\n",
              "          const docLinkHtml = 'Like what you see? Visit the ' +\n",
              "            '<a target=\"_blank\" href=https://colab.research.google.com/notebooks/data_table.ipynb>data table notebook</a>'\n",
              "            + ' to learn more about interactive tables.';\n",
              "          element.innerHTML = '';\n",
              "          dataTable['output_type'] = 'display_data';\n",
              "          await google.colab.output.renderOutput(dataTable, element);\n",
              "          const docLink = document.createElement('div');\n",
              "          docLink.innerHTML = docLinkHtml;\n",
              "          element.appendChild(docLink);\n",
              "        }\n",
              "      </script>\n",
              "    </div>\n",
              "  </div>\n",
              "  "
            ]
          },
          "metadata": {},
          "execution_count": 5
        }
      ],
      "source": [
        "train_features"
      ]
    },
    {
      "cell_type": "code",
      "execution_count": 6,
      "metadata": {
        "id": "5cWUuXV7BKk8"
      },
      "outputs": [],
      "source": [
        "def merge_animals(df):\n",
        "    \"\"\"_summary_\n",
        "\n",
        "    Args:\n",
        "        df (_type_): _description_\n",
        "\n",
        "    Returns:\n",
        "        _type_: _description_\n",
        "    \"\"\"\n",
        "    df_copy = df.copy() # copy df\n",
        "    columns = df_copy.columns # get column names\n",
        "    df_copy['animal_classification'] = np.where(df_copy.values)[1]+1 # add a numeric value to each column\n",
        "    df_copy.drop(columns ,axis=1, inplace=True) # drop columns that were just combined\n",
        "    return df_copy\n",
        "#                ['antelope_duiker', 'bird', 'blank', 'civet_genet', 'hog', 'leopard', 'monkey_prosimian', 'rodent']\n",
        "# Classification:           1           2        3           4          5        6              7               8"
      ]
    },
    {
      "cell_type": "code",
      "execution_count": 7,
      "metadata": {
        "id": "jHboNY8zBKk8"
      },
      "outputs": [],
      "source": [
        "# combine train df's on id\n",
        "train = pd.merge(left=train_features, right=train_labels, on='id') \n",
        "\n",
        "# see function in above cell\n",
        "train['animal_classification'] = merge_animals(train[['antelope_duiker', 'bird', 'blank', 'civet_genet', 'hog', 'leopard', 'monkey_prosimian', 'rodent']]) \n",
        "# done in function above ^ might need \n",
        "# train.drop(['antelope_duiker', 'bird', 'blank', 'civet_genet', 'hog', 'leopard', 'monkey_prosimian', 'rodent'] ,axis=1, inplace=True) # drop\n",
        "\n",
        "# rename numeric observations to actual classifications\n",
        "train['animal_classification'] = train['animal_classification'].map({1:'antelope_duiker', 2:'bird', 3:'blank', 4:'civet_genet', 5:'hog', 6:'leopard', 7:'monkey_prosimian', 8:'rodent'})\n",
        "\n",
        "# split file path column to get file names\n",
        "temp = train['filepath'].str.split(pat='/',expand=True)\n",
        "# rename split columns\n",
        "temp.rename(columns={0: 'old_folder_location', 1: 'filename'}, inplace=True)\n",
        "\n",
        "# concat columns and original df\n",
        "train = pd.concat([train, temp], axis=1).drop(columns=['filepath'],axis=1)\n"
      ]
    },
    {
      "cell_type": "code",
      "execution_count": 8,
      "metadata": {
        "id": "5AodvywPBKk9"
      },
      "outputs": [],
      "source": [
        "# make validation set\n",
        "validation_set = train[(train['site']=='S0009') | (train['site']=='S0043')| (train['site']=='S0059') |(train['site']== 'S0026')] # get validation set for 2 sites\n",
        "# make training set\n",
        "train_set = train[~train.isin(validation_set)].dropna() # remove the observations from train that are in the validation set"
      ]
    },
    {
      "cell_type": "code",
      "execution_count": 9,
      "metadata": {
        "tags": [],
        "colab": {
          "base_uri": "https://localhost:8080/"
        },
        "id": "FqeP7OKoBKk9",
        "outputId": "7d8e79fe-3d94-42b4-c550-5793c901ce23"
      },
      "outputs": [
        {
          "output_type": "execute_result",
          "data": {
            "text/plain": [
              "monkey_prosimian    0.187879\n",
              "leopard             0.168485\n",
              "rodent              0.146667\n",
              "bird                0.142424\n",
              "civet_genet         0.122424\n",
              "hog                 0.113939\n",
              "antelope_duiker     0.064848\n",
              "blank               0.053333\n",
              "Name: animal_classification, dtype: float64"
            ]
          },
          "metadata": {},
          "execution_count": 9
        }
      ],
      "source": [
        "validation_set['animal_classification'].value_counts(normalize=True)"
      ]
    },
    {
      "cell_type": "code",
      "execution_count": 10,
      "metadata": {
        "id": "oduNXGcTBKk-"
      },
      "outputs": [],
      "source": [
        "train_images = '/content/train_features'\n",
        "test_images = '/content/test_features'"
      ]
    },
    {
      "cell_type": "code",
      "execution_count": 11,
      "metadata": {
        "colab": {
          "base_uri": "https://localhost:8080/"
        },
        "id": "gAMl2VL9BKk-",
        "outputId": "f05c9ee2-9f87-4bc0-8a4f-e4ef6bbb3930"
      },
      "outputs": [
        {
          "output_type": "stream",
          "name": "stdout",
          "text": [
            "Found 1650 validated image filenames belonging to 8 classes.\n",
            "Found 14838 validated image filenames belonging to 8 classes.\n"
          ]
        }
      ],
      "source": [
        "# Creating an ImageDataGenerator\n",
        "if colab:\n",
        "    img_gen = ImageDataGenerator()\n",
        "    val_generator = img_gen.flow_from_dataframe(\n",
        "        validation_set, \n",
        "        directory=train_images, \n",
        "        x_col='filename', \n",
        "        y_col='animal_classification', \n",
        "        target_size=(256, 256), \n",
        "        class_mode='categorical',\n",
        "        batch_size=32\n",
        ")\n",
        "    train_generator = img_gen.flow_from_dataframe(\n",
        "        train_set, \n",
        "        directory=train_images, \n",
        "        x_col='filename', \n",
        "        y_col='animal_classification', \n",
        "        target_size=(256, 256), \n",
        "        class_mode='categorical',\n",
        "        batch_size=64\n",
        ")\n",
        "else:\n",
        "    img_gen = ImageDataGenerator()\n",
        "    val_generator = img_gen.flow_from_dataframe(\n",
        "        validation_set, \n",
        "        directory='./data/train_features_img', \n",
        "        x_col='filename', \n",
        "        y_col='animal_classification', \n",
        "        target_size=(256, 256), \n",
        "        class_mode='categorical',\n",
        "        batch_size=32\n",
        ")\n",
        "    train_generator = img_gen.flow_from_dataframe(\n",
        "        train_set, \n",
        "        directory='./data/train_features_img', \n",
        "        x_col='filename', \n",
        "        y_col='animal_classification', \n",
        "        target_size=(256, 256), \n",
        "        class_mode='categorical',\n",
        "        batch_size=64\n",
        ")"
      ]
    },
    {
      "cell_type": "code",
      "execution_count": 12,
      "metadata": {
        "id": "61hUJe9yBKk_"
      },
      "outputs": [],
      "source": [
        "def plot_metrics(model_fit):\n",
        "    metrics = ['accuracy', 'precision', 'recall']\n",
        "    for i in metrics:\n",
        "        plt.plot(model_fit.history[i], label='Train')\n",
        "        plt.plot(model_fit.history[f'val_{i}'], label='Test')\n",
        "        plt.ylabel(i)\n",
        "        plt.xlabel('Epochs')\n",
        "        plt.legend()\n",
        "        plt.show()"
      ]
    },
    {
      "cell_type": "code",
      "execution_count": 13,
      "metadata": {
        "id": "CaXO9Bo1BKk_",
        "colab": {
          "base_uri": "https://localhost:8080/"
        },
        "outputId": "403d3293-b92c-4f66-c401-5ed56d5f90f6"
      },
      "outputs": [
        {
          "output_type": "stream",
          "name": "stdout",
          "text": [
            "Downloading data from https://storage.googleapis.com/keras-applications/efficientnetb0_notop.h5\n",
            "16711680/16705208 [==============================] - 0s 0us/step\n",
            "16719872/16705208 [==============================] - 0s 0us/step\n"
          ]
        }
      ],
      "source": [
        "effnet = EfficientNetB0(include_top=False, weights='imagenet')\n",
        "effnet.trainable = False"
      ]
    },
    {
      "cell_type": "code",
      "execution_count": 14,
      "metadata": {
        "id": "RWjKOA1kBKk_"
      },
      "outputs": [],
      "source": [
        "model_es = Sequential()\n",
        "model_es.add(effnet)\n",
        "model_es.add(GlobalAveragePooling2D())\n",
        "model_es.add(Dense(8, activation='softmax'))"
      ]
    },
    {
      "cell_type": "code",
      "execution_count": 15,
      "metadata": {
        "id": "lwvfCFQqBKk_"
      },
      "outputs": [],
      "source": [
        "model_es.compile(optimizer=Adam(learning_rate=.0001), loss='categorical_crossentropy', metrics=['accuracy', 'Recall', 'Precision'])"
      ]
    },
    {
      "cell_type": "code",
      "execution_count": 16,
      "metadata": {
        "id": "nDXDi7q8BKlA"
      },
      "outputs": [],
      "source": [
        "early_stop = EarlyStopping(monitor = 'val_loss',\n",
        "                          min_delta = 0,\n",
        "                          patience = 5,\n",
        "                          verbose = 1)"
      ]
    },
    {
      "cell_type": "code",
      "execution_count": 17,
      "metadata": {
        "colab": {
          "base_uri": "https://localhost:8080/"
        },
        "id": "P2BYfgnPBKlB",
        "outputId": "edb9e9d2-6d6f-4cbf-df93-ed7a73e17cfe"
      },
      "outputs": [
        {
          "output_type": "stream",
          "name": "stdout",
          "text": [
            "Epoch 1/50\n",
            "232/232 [==============================] - 109s 395ms/step - loss: 1.8420 - accuracy: 0.3018 - recall: 0.0226 - precision: 0.8912 - val_loss: 1.7511 - val_accuracy: 0.3709 - val_recall: 0.0903 - val_precision: 0.5623\n",
            "Epoch 2/50\n",
            "232/232 [==============================] - 90s 387ms/step - loss: 1.5527 - accuracy: 0.4410 - recall: 0.0925 - precision: 0.8522 - val_loss: 1.6045 - val_accuracy: 0.4206 - val_recall: 0.1364 - val_precision: 0.6429\n",
            "Epoch 3/50\n",
            "232/232 [==============================] - 88s 381ms/step - loss: 1.4246 - accuracy: 0.4908 - recall: 0.1511 - precision: 0.8630 - val_loss: 1.5276 - val_accuracy: 0.4533 - val_recall: 0.1648 - val_precision: 0.6783\n",
            "Epoch 4/50\n",
            "232/232 [==============================] - 88s 378ms/step - loss: 1.3466 - accuracy: 0.5224 - recall: 0.1865 - precision: 0.8677 - val_loss: 1.4943 - val_accuracy: 0.4648 - val_recall: 0.1903 - val_precision: 0.6709\n",
            "Epoch 5/50\n",
            "232/232 [==============================] - 88s 379ms/step - loss: 1.2918 - accuracy: 0.5359 - recall: 0.2190 - precision: 0.8657 - val_loss: 1.4752 - val_accuracy: 0.4533 - val_recall: 0.2018 - val_precision: 0.6416\n",
            "Epoch 6/50\n",
            "232/232 [==============================] - 88s 379ms/step - loss: 1.2516 - accuracy: 0.5491 - recall: 0.2478 - precision: 0.8633 - val_loss: 1.4462 - val_accuracy: 0.4430 - val_recall: 0.2115 - val_precision: 0.6322\n",
            "Epoch 7/50\n",
            "232/232 [==============================] - 87s 377ms/step - loss: 1.2172 - accuracy: 0.5598 - recall: 0.2769 - precision: 0.8643 - val_loss: 1.4315 - val_accuracy: 0.4758 - val_recall: 0.2297 - val_precision: 0.6285\n",
            "Epoch 8/50\n",
            "232/232 [==============================] - 87s 376ms/step - loss: 1.1891 - accuracy: 0.5710 - recall: 0.2946 - precision: 0.8630 - val_loss: 1.4361 - val_accuracy: 0.4570 - val_recall: 0.2442 - val_precision: 0.6181\n",
            "Epoch 9/50\n",
            "232/232 [==============================] - 87s 376ms/step - loss: 1.1633 - accuracy: 0.5824 - recall: 0.3110 - precision: 0.8607 - val_loss: 1.4324 - val_accuracy: 0.4527 - val_recall: 0.2491 - val_precision: 0.6089\n",
            "Epoch 10/50\n",
            "232/232 [==============================] - 83s 359ms/step - loss: 1.1433 - accuracy: 0.5879 - recall: 0.3308 - precision: 0.8626 - val_loss: 1.4331 - val_accuracy: 0.4515 - val_recall: 0.2606 - val_precision: 0.6039\n",
            "Epoch 11/50\n",
            "232/232 [==============================] - 81s 350ms/step - loss: 1.1245 - accuracy: 0.5975 - recall: 0.3398 - precision: 0.8648 - val_loss: 1.4202 - val_accuracy: 0.4552 - val_recall: 0.2715 - val_precision: 0.5981\n",
            "Epoch 12/50\n",
            "232/232 [==============================] - 80s 346ms/step - loss: 1.1051 - accuracy: 0.6025 - recall: 0.3509 - precision: 0.8645 - val_loss: 1.4289 - val_accuracy: 0.4539 - val_recall: 0.2709 - val_precision: 0.5921\n",
            "Epoch 13/50\n",
            "232/232 [==============================] - 81s 348ms/step - loss: 1.0951 - accuracy: 0.6113 - recall: 0.3603 - precision: 0.8628 - val_loss: 1.4290 - val_accuracy: 0.4588 - val_recall: 0.2770 - val_precision: 0.5927\n",
            "Epoch 14/50\n",
            "232/232 [==============================] - 81s 349ms/step - loss: 1.0800 - accuracy: 0.6141 - recall: 0.3696 - precision: 0.8605 - val_loss: 1.4155 - val_accuracy: 0.4661 - val_recall: 0.2800 - val_precision: 0.5848\n",
            "Epoch 15/50\n",
            "232/232 [==============================] - 81s 347ms/step - loss: 1.0643 - accuracy: 0.6247 - recall: 0.3786 - precision: 0.8601 - val_loss: 1.4335 - val_accuracy: 0.4648 - val_recall: 0.2842 - val_precision: 0.5899\n",
            "Epoch 16/50\n",
            "232/232 [==============================] - 79s 342ms/step - loss: 1.0556 - accuracy: 0.6238 - recall: 0.3857 - precision: 0.8607 - val_loss: 1.4432 - val_accuracy: 0.4618 - val_recall: 0.2812 - val_precision: 0.5873\n",
            "Epoch 17/50\n",
            "232/232 [==============================] - 81s 347ms/step - loss: 1.0437 - accuracy: 0.6301 - recall: 0.3906 - precision: 0.8630 - val_loss: 1.4380 - val_accuracy: 0.4661 - val_recall: 0.2891 - val_precision: 0.5911\n",
            "Epoch 18/50\n",
            "232/232 [==============================] - 79s 339ms/step - loss: 1.0336 - accuracy: 0.6353 - recall: 0.3992 - precision: 0.8634 - val_loss: 1.4438 - val_accuracy: 0.4600 - val_recall: 0.2939 - val_precision: 0.5907\n",
            "Epoch 19/50\n",
            "232/232 [==============================] - 80s 343ms/step - loss: 1.0227 - accuracy: 0.6415 - recall: 0.4071 - precision: 0.8603 - val_loss: 1.4577 - val_accuracy: 0.4655 - val_recall: 0.2879 - val_precision: 0.5835\n",
            "Epoch 19: early stopping\n"
          ]
        }
      ],
      "source": [
        "history_es = model_es.fit(\n",
        "    train_generator,\n",
        "    batch_size=64,\n",
        "    epochs=50,\n",
        "    validation_data=val_generator,\n",
        "    callbacks = [early_stop]\n",
        ")"
      ]
    },
    {
      "cell_type": "code",
      "execution_count": 18,
      "metadata": {
        "colab": {
          "base_uri": "https://localhost:8080/",
          "height": 803
        },
        "id": "ChK8yQOVBKlB",
        "outputId": "b0a7f95f-79ce-4f46-c740-3158fb209108"
      },
      "outputs": [
        {
          "output_type": "display_data",
          "data": {
            "text/plain": [
              "<Figure size 432x288 with 1 Axes>"
            ],
            "image/png": "[encoded data removed]"
          },
          "metadata": {
            "needs_background": "light"
          }
        },
        {
          "output_type": "display_data",
          "data": {
            "text/plain": [
              "<Figure size 432x288 with 1 Axes>"
            ],
            "image/png": "[encoded data removed]"
          },
          "metadata": {
            "needs_background": "light"
          }
        },
        {
          "output_type": "display_data",
          "data": {
            "text/plain": [
              "<Figure size 432x288 with 1 Axes>"
            ],
            "image/png": "[encoded data removed]"
          },
          "metadata": {
            "needs_background": "light"
          }
        }
      ],
      "source": [
        "plot_metrics(history_es)"
      ]
    }
  ],
  "metadata": {
    "interpreter": {
      "hash": "d1e6c26adc8bad395b004c18f56e59eec4f16088a73327fc7833d1c5c445ad10"
    },
    "kernelspec": {
      "display_name": "Python 3 (ipykernel)",
      "language": "python",
      "name": "python3"
    },
    "language_info": {
      "codemirror_mode": {
        "name": "ipython",
        "version": 3
      },
      "file_extension": ".py",
      "mimetype": "text/x-python",
      "name": "python",
      "nbconvert_exporter": "python",
      "pygments_lexer": "ipython3",
      "version": "3.9.12"
    },
    "colab": {
      "name": "EfficientNet_with_EarlyStop.ipynb",
      "provenance": [],
      "collapsed_sections": [],
      "machine_shape": "hm",
      "background_execution": "on"
    },
    "accelerator": "GPU"
  },
  "nbformat": 4,
  "nbformat_minor": 0
}