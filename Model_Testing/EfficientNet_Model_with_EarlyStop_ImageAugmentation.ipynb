{
  "cells": [
    {
      "cell_type": "code",
      "execution_count": 139,
      "metadata": {
        "id": "4e3-KTq8BKk4"
      },
      "outputs": [],
      "source": [
        "import matplotlib.pyplot as plt\n",
        "import numpy as np\n",
        "import pandas as pd\n",
        "import tensorflow\n",
        "\n",
        "from keras.layers import Dense, Conv2D, MaxPool2D, Dropout, Flatten, GlobalAveragePooling2D\n",
        "from keras.losses import categorical_crossentropy\n",
        "from keras.models import Sequential\n",
        "from keras.preprocessing.image import ImageDataGenerator\n",
        "\n",
        "from tensorflow.keras.applications import EfficientNetB0\n",
        "from tensorflow.keras.callbacks import EarlyStopping\n",
        "from tensorflow.keras.optimizers import Adam\n",
        "\n",
        "from sklearn.metrics import ConfusionMatrixDisplay, accuracy_score, balanced_accuracy_score, precision_score, recall_score, f1_score, RocCurveDisplay\n",
        "\n",
        "colab = False  # Type True if using Google Colab, type False if using Jupyter Notebook\n",
        "if colab:\n",
        "    from google.colab import drive\n",
        "    from zipfile import ZipFile\n",
        "\n",
        "tensorflow.random.set_seed(42)"
      ]
    },
    {
      "cell_type": "code",
      "execution_count": 3,
      "metadata": {
        "colab": {
          "base_uri": "https://localhost:8080/"
        },
        "id": "oAOiWd7oBKk6",
        "outputId": "e8f1de73-552b-4c5a-e4d5-c02a7659b5e8"
      },
      "outputs": [],
      "source": [
        "# Mounting Google Drive for use with Google Colab\n",
        "if colab:\n",
        "    drive.mount('/content/drive', force_remount=True)"
      ]
    },
    {
      "cell_type": "code",
      "execution_count": 4,
      "metadata": {
        "colab": {
          "base_uri": "https://localhost:8080/"
        },
        "id": "AqNVoXw1BKk6",
        "outputId": "0fd8bcc3-b092-4c36-f8c2-25ea1221d3cd"
      },
      "outputs": [],
      "source": [
        "# Creating file paths for use with Google Colab\n",
        "if colab:\n",
        "    train_features_path = 'drive/MyDrive/group_project_data/Train-Features/train_features copy.csv'\n",
        "    train_labels_path = 'drive/MyDrive/group_project_data/Train-Label/train_labels copy.csv'\n",
        "    test_features_path = 'drive/MyDrive/group_project_data/Test-Features/test_features copy.csv'\n",
        "    train_images_path = 'drive/MyDrive/group_project_data/Train-Images/train_features.zip'\n",
        "    test_images_path = 'drive/MyDrive/group_project_data/Test-Images/test_features.zip'\n",
        "    submission_format_path = 'drive/MyDrive/group_project_data/Submission-Format/submission_format.csv'\n",
        "\n",
        "\n",
        "    with ZipFile(train_images_path, 'r') as train_zip:\n",
        "        train_zip.extractall()\n",
        "        print('Unzipped Train Images file')\n",
        "\n",
        "    with ZipFile(test_images_path, 'r') as test_zip:\n",
        "        test_zip.extractall()\n",
        "        print('Unzipped Test Images file')"
      ]
    },
    {
      "cell_type": "code",
      "execution_count": 6,
      "metadata": {
        "id": "dDEYl4dMBKk7"
      },
      "outputs": [],
      "source": [
        "# Creating DataFrames from csv files\n",
        "if colab:\n",
        "    train_features = pd.read_csv(train_features_path)\n",
        "    train_labels = pd.read_csv(train_labels_path)\n",
        "    test_features = pd.read_csv(test_features_path)\n",
        "    submission_format = pd.read_csv(submission_format_path)\n",
        "\n",
        "else:\n",
        "    train_features = pd.read_csv('../data/train_features.csv')\n",
        "    train_labels = pd.read_csv('../data/train_labels.csv')\n",
        "    test_features = pd.read_csv('../data/test_features.csv')\n",
        "    submission_format = pd.read_csv('../data/submission_format.csv')"
      ]
    },
    {
      "cell_type": "code",
      "execution_count": 7,
      "metadata": {
        "colab": {
          "base_uri": "https://localhost:8080/",
          "height": 419
        },
        "id": "oeFZ-slQBKk7",
        "outputId": "499fff45-a291-42a7-9c1e-f4cfac40fca3"
      },
      "outputs": [
        {
          "data": {
            "text/html": [
              "<div>\n",
              "<style scoped>\n",
              "    .dataframe tbody tr th:only-of-type {\n",
              "        vertical-align: middle;\n",
              "    }\n",
              "\n",
              "    .dataframe tbody tr th {\n",
              "        vertical-align: top;\n",
              "    }\n",
              "\n",
              "    .dataframe thead th {\n",
              "        text-align: right;\n",
              "    }\n",
              "</style>\n",
              "<table border=\"1\" class=\"dataframe\">\n",
              "  <thead>\n",
              "    <tr style=\"text-align: right;\">\n",
              "      <th></th>\n",
              "      <th>id</th>\n",
              "      <th>filepath</th>\n",
              "      <th>site</th>\n",
              "    </tr>\n",
              "  </thead>\n",
              "  <tbody>\n",
              "    <tr>\n",
              "      <th>0</th>\n",
              "      <td>ZJ000000</td>\n",
              "      <td>train_features/ZJ000000.jpg</td>\n",
              "      <td>S0120</td>\n",
              "    </tr>\n",
              "    <tr>\n",
              "      <th>1</th>\n",
              "      <td>ZJ000001</td>\n",
              "      <td>train_features/ZJ000001.jpg</td>\n",
              "      <td>S0069</td>\n",
              "    </tr>\n",
              "    <tr>\n",
              "      <th>2</th>\n",
              "      <td>ZJ000002</td>\n",
              "      <td>train_features/ZJ000002.jpg</td>\n",
              "      <td>S0009</td>\n",
              "    </tr>\n",
              "    <tr>\n",
              "      <th>3</th>\n",
              "      <td>ZJ000003</td>\n",
              "      <td>train_features/ZJ000003.jpg</td>\n",
              "      <td>S0008</td>\n",
              "    </tr>\n",
              "    <tr>\n",
              "      <th>4</th>\n",
              "      <td>ZJ000004</td>\n",
              "      <td>train_features/ZJ000004.jpg</td>\n",
              "      <td>S0036</td>\n",
              "    </tr>\n",
              "    <tr>\n",
              "      <th>...</th>\n",
              "      <td>...</td>\n",
              "      <td>...</td>\n",
              "      <td>...</td>\n",
              "    </tr>\n",
              "    <tr>\n",
              "      <th>16483</th>\n",
              "      <td>ZJ016483</td>\n",
              "      <td>train_features/ZJ016483.jpg</td>\n",
              "      <td>S0093</td>\n",
              "    </tr>\n",
              "    <tr>\n",
              "      <th>16484</th>\n",
              "      <td>ZJ016484</td>\n",
              "      <td>train_features/ZJ016484.jpg</td>\n",
              "      <td>S0043</td>\n",
              "    </tr>\n",
              "    <tr>\n",
              "      <th>16485</th>\n",
              "      <td>ZJ016485</td>\n",
              "      <td>train_features/ZJ016485.jpg</td>\n",
              "      <td>S0089</td>\n",
              "    </tr>\n",
              "    <tr>\n",
              "      <th>16486</th>\n",
              "      <td>ZJ016486</td>\n",
              "      <td>train_features/ZJ016486.jpg</td>\n",
              "      <td>S0095</td>\n",
              "    </tr>\n",
              "    <tr>\n",
              "      <th>16487</th>\n",
              "      <td>ZJ016487</td>\n",
              "      <td>train_features/ZJ016487.jpg</td>\n",
              "      <td>S0021</td>\n",
              "    </tr>\n",
              "  </tbody>\n",
              "</table>\n",
              "<p>16488 rows × 3 columns</p>\n",
              "</div>"
            ],
            "text/plain": [
              "             id                     filepath   site\n",
              "0      ZJ000000  train_features/ZJ000000.jpg  S0120\n",
              "1      ZJ000001  train_features/ZJ000001.jpg  S0069\n",
              "2      ZJ000002  train_features/ZJ000002.jpg  S0009\n",
              "3      ZJ000003  train_features/ZJ000003.jpg  S0008\n",
              "4      ZJ000004  train_features/ZJ000004.jpg  S0036\n",
              "...         ...                          ...    ...\n",
              "16483  ZJ016483  train_features/ZJ016483.jpg  S0093\n",
              "16484  ZJ016484  train_features/ZJ016484.jpg  S0043\n",
              "16485  ZJ016485  train_features/ZJ016485.jpg  S0089\n",
              "16486  ZJ016486  train_features/ZJ016486.jpg  S0095\n",
              "16487  ZJ016487  train_features/ZJ016487.jpg  S0021\n",
              "\n",
              "[16488 rows x 3 columns]"
            ]
          },
          "execution_count": 7,
          "metadata": {},
          "output_type": "execute_result"
        }
      ],
      "source": [
        "train_features"
      ]
    },
    {
      "cell_type": "code",
      "execution_count": 8,
      "metadata": {
        "id": "5cWUuXV7BKk8"
      },
      "outputs": [],
      "source": [
        "def merge_animals(df):\n",
        "    \"\"\"_summary_\n",
        "\n",
        "    Args:\n",
        "        df (_type_): _description_\n",
        "\n",
        "    Returns:\n",
        "        _type_: _description_\n",
        "    \"\"\"\n",
        "    df_copy = df.copy() # copy df\n",
        "    columns = df_copy.columns # get column names\n",
        "    df_copy['animal_classification'] = np.where(df_copy.values)[1]+1 # add a numeric value to each column\n",
        "    df_copy.drop(columns ,axis=1, inplace=True) # drop columns that were just combined\n",
        "    return df_copy\n",
        "#                ['antelope_duiker', 'bird', 'blank', 'civet_genet', 'hog', 'leopard', 'monkey_prosimian', 'rodent']\n",
        "# Classification:           1           2        3           4          5        6              7               8"
      ]
    },
    {
      "cell_type": "code",
      "execution_count": 13,
      "metadata": {
        "id": "jHboNY8zBKk8"
      },
      "outputs": [],
      "source": [
        "# combine train df's on id\n",
        "train = pd.merge(left=train_features, right=train_labels, on='id') \n",
        "\n",
        "# see function in above cell\n",
        "train['animal_classification'] = merge_animals(train[['antelope_duiker', 'bird', 'blank', 'civet_genet', 'hog', 'leopard', 'monkey_prosimian', 'rodent']]) \n",
        "# done in function above ^ might need \n",
        "# train.drop(['antelope_duiker', 'bird', 'blank', 'civet_genet', 'hog', 'leopard', 'monkey_prosimian', 'rodent'] ,axis=1, inplace=True) # drop\n",
        "\n",
        "# rename numeric observations to actual classifications\n",
        "train['animal_classification'] = train['animal_classification'].map({1:'antelope_duiker', 2:'bird', 3:'blank', 4:'civet_genet', 5:'hog', 6:'leopard', 7:'monkey_prosimian', 8:'rodent'})\n",
        "\n",
        "# split file path column to get file names\n",
        "temp = train['filepath'].str.split(pat='/',expand=True)\n",
        "# rename split columns\n",
        "temp.rename(columns={0: 'old_folder_location', 1: 'filename'}, inplace=True)\n",
        "\n",
        "# concat columns and original df\n",
        "train = pd.concat([train, temp], axis=1).drop(columns=['filepath'],axis=1)\n",
        "\n",
        "# same for test (holdout set for predictions)\n",
        "temp2 = test_features['filepath'].str.split(pat='/', expand=True)\n",
        "temp2.rename(columns={0: 'old_folder_location', 1: 'filename'}, inplace=True) # rename split columns\n",
        "test = pd.concat([test_features, temp2], axis=1).drop(columns=['filepath'],axis=1) # concat columns\n"
      ]
    },
    {
      "cell_type": "code",
      "execution_count": 10,
      "metadata": {
        "id": "5AodvywPBKk9"
      },
      "outputs": [],
      "source": [
        "# make validation set\n",
        "validation_set = train[(train['site']=='S0009') | (train['site']=='S0043')| (train['site']=='S0059') |(train['site']== 'S0026')] # get validation set for 2 sites\n",
        "# make training set\n",
        "train_set = train[~train.isin(validation_set)].dropna() # remove the observations from train that are in the validation set"
      ]
    },
    {
      "cell_type": "code",
      "execution_count": 11,
      "metadata": {
        "colab": {
          "base_uri": "https://localhost:8080/"
        },
        "id": "FqeP7OKoBKk9",
        "outputId": "7eb9b200-08ee-4c3f-929c-491f792cd490",
        "tags": []
      },
      "outputs": [
        {
          "data": {
            "text/plain": [
              "monkey_prosimian    0.187879\n",
              "leopard             0.168485\n",
              "rodent              0.146667\n",
              "bird                0.142424\n",
              "civet_genet         0.122424\n",
              "hog                 0.113939\n",
              "antelope_duiker     0.064848\n",
              "blank               0.053333\n",
              "Name: animal_classification, dtype: float64"
            ]
          },
          "execution_count": 11,
          "metadata": {},
          "output_type": "execute_result"
        }
      ],
      "source": [
        "validation_set['animal_classification'].value_counts(normalize=True)"
      ]
    },
    {
      "cell_type": "code",
      "execution_count": 12,
      "metadata": {
        "id": "oduNXGcTBKk-"
      },
      "outputs": [],
      "source": [
        "train_images = '/content/train_features'\n",
        "test_images = '/content/test_features'"
      ]
    },
    {
      "cell_type": "code",
      "execution_count": 14,
      "metadata": {
        "colab": {
          "base_uri": "https://localhost:8080/"
        },
        "id": "gAMl2VL9BKk-",
        "outputId": "6ea1c732-3b38-4128-c111-1120bfafef2c"
      },
      "outputs": [
        {
          "name": "stdout",
          "output_type": "stream",
          "text": [
            "Found 1650 validated image filenames belonging to 8 classes.\n",
            "Found 14838 validated image filenames belonging to 8 classes.\n",
            "Found 4464 validated image filenames.\n"
          ]
        }
      ],
      "source": [
        "# Creating an ImageDataGenerator\n",
        "if colab:\n",
        "    img_gen = ImageDataGenerator(brightness_range=[0.2,1.0])\n",
        "    val_generator = img_gen.flow_from_dataframe(\n",
        "        validation_set, \n",
        "        directory=train_images, \n",
        "        x_col='filename', \n",
        "        y_col='animal_classification', \n",
        "        target_size=(256, 256), \n",
        "        class_mode='categorical',\n",
        "        batch_size=32\n",
        ")\n",
        "    train_generator = img_gen.flow_from_dataframe(\n",
        "        train_set, \n",
        "        directory=train_images, \n",
        "        x_col='filename', \n",
        "        y_col='animal_classification', \n",
        "        target_size=(256, 256), \n",
        "        class_mode='categorical',\n",
        "        batch_size=64\n",
        ")\n",
        "else:\n",
        "    img_gen = ImageDataGenerator()\n",
        "    val_generator = img_gen.flow_from_dataframe(\n",
        "        validation_set, \n",
        "        directory='../data/train_features_img', \n",
        "        x_col='filename', \n",
        "        y_col='animal_classification', \n",
        "        target_size=(256, 256), \n",
        "        class_mode='categorical',\n",
        "        batch_size=32\n",
        ")\n",
        "    train_generator = img_gen.flow_from_dataframe(\n",
        "        train_set, \n",
        "        directory='../data/train_features_img', \n",
        "        x_col='filename', \n",
        "        y_col='animal_classification', \n",
        "        target_size=(256, 256), \n",
        "        class_mode='categorical',\n",
        "        batch_size=64\n",
        ")\n",
        "    # holdout set\n",
        "    test_generator = img_gen.flow_from_dataframe(\n",
        "    test,\n",
        "    directory='../data/test_features_img',\n",
        "    x_col='filename',\n",
        "    class_mode=None,\n",
        "    target_size=(256, 256)\n",
        ")   "
      ]
    },
    {
      "cell_type": "code",
      "execution_count": 24,
      "metadata": {
        "id": "61hUJe9yBKk_"
      },
      "outputs": [],
      "source": [
        "def plot_metrics(model_fit):\n",
        "    metrics = ['loss', 'accuracy', 'precision', 'recall']\n",
        "    titles = ['Loss Optimization', 'Categorical Accuracy Performance', 'Precision Performance', 'Recall Performance']\n",
        "    for j, i in enumerate(metrics):\n",
        "        plt.plot(model_fit.history[i], label='Train')\n",
        "        plt.plot(model_fit.history[f'val_{i}'], label='Test')\n",
        "        plt.ylabel(i)\n",
        "        plt.xlabel('epochs')\n",
        "        plt.title(titles[j])\n",
        "        plt.legend()\n",
        "        plt.show()"
      ]
    },
    {
      "cell_type": "code",
      "execution_count": 15,
      "metadata": {
        "colab": {
          "base_uri": "https://localhost:8080/"
        },
        "id": "CaXO9Bo1BKk_",
        "outputId": "bfeaa268-3254-4535-9b03-5e0791bd2c03"
      },
      "outputs": [
        {
          "name": "stdout",
          "output_type": "stream",
          "text": [
            "Downloading data from https://storage.googleapis.com/keras-applications/efficientnetb0_notop.h5\n",
            "16711680/16705208 [==============================] - 0s 0us/step\n",
            "16719872/16705208 [==============================] - 0s 0us/step\n"
          ]
        }
      ],
      "source": [
        "effnet = EfficientNetB0(include_top=False, weights='imagenet')\n",
        "effnet.trainable = False"
      ]
    },
    {
      "cell_type": "code",
      "execution_count": 16,
      "metadata": {
        "id": "RWjKOA1kBKk_"
      },
      "outputs": [],
      "source": [
        "model_es = Sequential()\n",
        "model_es.add(effnet)\n",
        "model_es.add(GlobalAveragePooling2D())\n",
        "model_es.add(Dense(8, activation='softmax'))"
      ]
    },
    {
      "cell_type": "code",
      "execution_count": 17,
      "metadata": {
        "id": "lwvfCFQqBKk_"
      },
      "outputs": [],
      "source": [
        "model_es.compile(optimizer=Adam(learning_rate=.0001), loss='categorical_crossentropy', metrics=['accuracy', 'Recall', 'Precision'])"
      ]
    },
    {
      "cell_type": "code",
      "execution_count": 18,
      "metadata": {
        "id": "nDXDi7q8BKlA"
      },
      "outputs": [],
      "source": [
        "early_stop = EarlyStopping(monitor = 'val_loss',\n",
        "                          min_delta = 0,\n",
        "                          patience = 5,\n",
        "                          verbose = 1)"
      ]
    },
    {
      "cell_type": "code",
      "execution_count": 19,
      "metadata": {
        "colab": {
          "base_uri": "https://localhost:8080/"
        },
        "id": "P2BYfgnPBKlB",
        "outputId": "bc3c3272-2a00-4ab1-e464-0f6c8eb6e3b8"
      },
      "outputs": [
        {
          "name": "stdout",
          "output_type": "stream",
          "text": [
            "Epoch 1/50\n",
            "232/232 [==============================] - 372s 2s/step - loss: 1.8434 - accuracy: 0.3008 - recall: 0.0220 - precision: 0.9134 - val_loss: 1.7607 - val_accuracy: 0.3564 - val_recall: 0.0867 - val_precision: 0.5586\n",
            "Epoch 2/50\n",
            "232/232 [==============================] - 362s 2s/step - loss: 1.5536 - accuracy: 0.4409 - recall: 0.0916 - precision: 0.8574 - val_loss: 1.6114 - val_accuracy: 0.4067 - val_recall: 0.1364 - val_precision: 0.6410\n",
            "Epoch 3/50\n",
            "232/232 [==============================] - 364s 2s/step - loss: 1.4263 - accuracy: 0.4908 - recall: 0.1518 - precision: 0.8702 - val_loss: 1.5333 - val_accuracy: 0.4442 - val_recall: 0.1661 - val_precision: 0.6799\n",
            "Epoch 4/50\n",
            "232/232 [==============================] - 362s 2s/step - loss: 1.3490 - accuracy: 0.5179 - recall: 0.1859 - precision: 0.8678 - val_loss: 1.4942 - val_accuracy: 0.4552 - val_recall: 0.1885 - val_precision: 0.6776\n",
            "Epoch 5/50\n",
            "232/232 [==============================] - 361s 2s/step - loss: 1.2941 - accuracy: 0.5344 - recall: 0.2167 - precision: 0.8715 - val_loss: 1.4591 - val_accuracy: 0.4721 - val_recall: 0.1994 - val_precision: 0.6451\n",
            "Epoch 6/50\n",
            "232/232 [==============================] - 362s 2s/step - loss: 1.2522 - accuracy: 0.5475 - recall: 0.2490 - precision: 0.8643 - val_loss: 1.4497 - val_accuracy: 0.4527 - val_recall: 0.2127 - val_precision: 0.6257\n",
            "Epoch 7/50\n",
            "232/232 [==============================] - 363s 2s/step - loss: 1.2177 - accuracy: 0.5600 - recall: 0.2746 - precision: 0.8641 - val_loss: 1.4441 - val_accuracy: 0.4648 - val_recall: 0.2261 - val_precision: 0.6237\n",
            "Epoch 8/50\n",
            "232/232 [==============================] - 350s 2s/step - loss: 1.1875 - accuracy: 0.5724 - recall: 0.2955 - precision: 0.8645 - val_loss: 1.4321 - val_accuracy: 0.4606 - val_recall: 0.2467 - val_precision: 0.6157\n",
            "Epoch 9/50\n",
            "232/232 [==============================] - 347s 1s/step - loss: 1.1637 - accuracy: 0.5790 - recall: 0.3112 - precision: 0.8585 - val_loss: 1.4333 - val_accuracy: 0.4479 - val_recall: 0.2479 - val_precision: 0.6141\n",
            "Epoch 10/50\n",
            "232/232 [==============================] - 348s 1s/step - loss: 1.1427 - accuracy: 0.5910 - recall: 0.3279 - precision: 0.8648 - val_loss: 1.4192 - val_accuracy: 0.4576 - val_recall: 0.2576 - val_precision: 0.6037\n",
            "Epoch 11/50\n",
            "232/232 [==============================] - 346s 1s/step - loss: 1.1240 - accuracy: 0.5970 - recall: 0.3407 - precision: 0.8606 - val_loss: 1.4230 - val_accuracy: 0.4533 - val_recall: 0.2606 - val_precision: 0.6048\n",
            "Epoch 12/50\n",
            "232/232 [==============================] - 357s 2s/step - loss: 1.1065 - accuracy: 0.6060 - recall: 0.3507 - precision: 0.8589 - val_loss: 1.4217 - val_accuracy: 0.4612 - val_recall: 0.2679 - val_precision: 0.5997\n",
            "Epoch 13/50\n",
            "232/232 [==============================] - 361s 2s/step - loss: 1.0925 - accuracy: 0.6089 - recall: 0.3614 - precision: 0.8597 - val_loss: 1.4309 - val_accuracy: 0.4642 - val_recall: 0.2739 - val_precision: 0.5870\n",
            "Epoch 14/50\n",
            "232/232 [==============================] - 349s 2s/step - loss: 1.0800 - accuracy: 0.6176 - recall: 0.3665 - precision: 0.8629 - val_loss: 1.4368 - val_accuracy: 0.4545 - val_recall: 0.2770 - val_precision: 0.5943\n",
            "Epoch 15/50\n",
            "232/232 [==============================] - 350s 2s/step - loss: 1.0657 - accuracy: 0.6210 - recall: 0.3786 - precision: 0.8583 - val_loss: 1.4392 - val_accuracy: 0.4606 - val_recall: 0.2800 - val_precision: 0.5878\n",
            "Epoch 15: early stopping\n"
          ]
        }
      ],
      "source": [
        "history_es = model_es.fit(\n",
        "    train_generator,\n",
        "    batch_size=64,\n",
        "    epochs=50,\n",
        "    validation_data=val_generator,\n",
        "    callbacks = [early_stop]\n",
        ")"
      ]
    },
    {
      "cell_type": "code",
      "execution_count": 26,
      "metadata": {},
      "outputs": [
        {
          "name": "stdout",
          "output_type": "stream",
          "text": [
            "INFO:tensorflow:Assets written to: ../model_data/assets\n"
          ]
        }
      ],
      "source": [
        "# exporting model - uncomment to run\n",
        "# model_es.save('../model_data/')"
      ]
    },
    {
      "cell_type": "code",
      "execution_count": 25,
      "metadata": {
        "colab": {
          "base_uri": "https://localhost:8080/",
          "height": 804
        },
        "id": "ChK8yQOVBKlB",
        "outputId": "2ca94e8f-ec90-4c13-c3f2-59944d396fe3"
      },
      "outputs": [
        {
          "data": {
            "image/png": "[encoded data removed]",
            "text/plain": [
              "<Figure size 432x288 with 1 Axes>"
            ]
          },
          "metadata": {
            "needs_background": "light"
          },
          "output_type": "display_data"
        },
        {
          "data": {
            "image/png": "[encoded data removed]",
            "text/plain": [
              "<Figure size 432x288 with 1 Axes>"
            ]
          },
          "metadata": {
            "needs_background": "light"
          },
          "output_type": "display_data"
        },
        {
          "data": {
            "image/png": "[encoded data removed]",
            "text/plain": [
              "<Figure size 432x288 with 1 Axes>"
            ]
          },
          "metadata": {
            "needs_background": "light"
          },
          "output_type": "display_data"
        },
        {
          "data": {
            "image/png": "[encoded data removed]",
            "text/plain": [
              "<Figure size 432x288 with 1 Axes>"
            ]
          },
          "metadata": {
            "needs_background": "light"
          },
          "output_type": "display_data"
        }
      ],
      "source": [
        "plot_metrics(history_es)"
      ]
    },
    {
      "cell_type": "markdown",
      "metadata": {},
      "source": [
        "## Predictions"
      ]
    },
    {
      "cell_type": "code",
      "execution_count": 195,
      "metadata": {},
      "outputs": [
        {
          "name": "stdout",
          "output_type": "stream",
          "text": [
            "(1650, 8)\n"
          ]
        },
        {
          "data": {
            "text/plain": [
              "array([[0.09442168, 0.28237605, 0.2098582 , ..., 0.07024215, 0.19958234,\n",
              "        0.12777327],\n",
              "       [0.17862827, 0.27436987, 0.0523275 , ..., 0.01106528, 0.22491723,\n",
              "        0.24809171],\n",
              "       [0.13838963, 0.00422018, 0.23030686, ..., 0.00837825, 0.00989369,\n",
              "        0.5741616 ],\n",
              "       ...,\n",
              "       [0.207059  , 0.15813737, 0.26428244, ..., 0.02900756, 0.25058055,\n",
              "        0.07898645],\n",
              "       [0.20612419, 0.27485242, 0.14639084, ..., 0.01480285, 0.15388554,\n",
              "        0.1834675 ],\n",
              "       [0.05077181, 0.00507649, 0.00080216, ..., 0.12594102, 0.00078458,\n",
              "        0.00346385]], dtype=float32)"
            ]
          },
          "execution_count": 195,
          "metadata": {},
          "output_type": "execute_result"
        }
      ],
      "source": [
        "# generating soft predictions (returns probabilities)\n",
        "val_preds = model_es.predict(val_generator)\n",
        "print(val_preds.shape)\n",
        "val_preds"
      ]
    },
    {
      "cell_type": "code",
      "execution_count": 196,
      "metadata": {},
      "outputs": [
        {
          "name": "stdout",
          "output_type": "stream",
          "text": [
            "(1650, 8)\n"
          ]
        },
        {
          "data": {
            "text/plain": [
              "array([[0, 1, 0, ..., 0, 0, 0],\n",
              "       [0, 1, 0, ..., 0, 0, 0],\n",
              "       [0, 0, 0, ..., 0, 0, 1],\n",
              "       ...,\n",
              "       [0, 0, 1, ..., 0, 0, 0],\n",
              "       [0, 1, 0, ..., 0, 0, 0],\n",
              "       [0, 0, 0, ..., 0, 0, 0]])"
            ]
          },
          "execution_count": 196,
          "metadata": {},
          "output_type": "execute_result"
        }
      ],
      "source": [
        "# converting to hard predictions\n",
        "val_preds_class = np.array([np.where(array == array.max(), 1, 0) for array in val_preds]) #highest probability yields true for that class\n",
        "print(val_preds_class.shape)\n",
        "val_preds_class"
      ]
    },
    {
      "cell_type": "code",
      "execution_count": 197,
      "metadata": {},
      "outputs": [
        {
          "name": "stdout",
          "output_type": "stream",
          "text": [
            "(1650,)\n"
          ]
        },
        {
          "data": {
            "text/plain": [
              "array([1, 1, 7, ..., 2, 1, 3], dtype=int64)"
            ]
          },
          "execution_count": 197,
          "metadata": {},
          "output_type": "execute_result"
        }
      ],
      "source": [
        "# flattening to 1D array for confusion matrix\n",
        "val_preds_class_1D = np.array([np.argmax(row) for row in val_preds_class])\n",
        "print(val_preds_class_1D.shape)\n",
        "val_preds_class_1D"
      ]
    },
    {
      "cell_type": "markdown",
      "metadata": {},
      "source": [
        "## Evaluation"
      ]
    },
    {
      "cell_type": "code",
      "execution_count": 198,
      "metadata": {},
      "outputs": [
        {
          "name": "stdout",
          "output_type": "stream",
          "text": [
            "(1650,)\n"
          ]
        },
        {
          "data": {
            "text/plain": [
              "array([1, 1, 3, ..., 3, 6, 5])"
            ]
          },
          "execution_count": 198,
          "metadata": {},
          "output_type": "execute_result"
        }
      ],
      "source": [
        "# gathering true image labels to compare to predicted labels\n",
        "val_labels = np.array(val_generator.classes)\n",
        "print(val_labels.shape)\n",
        "val_labels"
      ]
    },
    {
      "cell_type": "code",
      "execution_count": 199,
      "metadata": {},
      "outputs": [
        {
          "data": {
            "text/plain": [
              "{'antelope_duiker': 0,\n",
              " 'bird': 1,\n",
              " 'blank': 2,\n",
              " 'civet_genet': 3,\n",
              " 'hog': 4,\n",
              " 'leopard': 5,\n",
              " 'monkey_prosimian': 6,\n",
              " 'rodent': 7}"
            ]
          },
          "execution_count": 199,
          "metadata": {},
          "output_type": "execute_result"
        }
      ],
      "source": [
        "# recall the label,index pairing\n",
        "label_names = list(train_generator.class_indices.keys()) #will use for confusion matrix\n",
        "train_generator.class_indices"
      ]
    },
    {
      "cell_type": "code",
      "execution_count": 200,
      "metadata": {},
      "outputs": [],
      "source": [
        "from sklearn.metrics import classification_report, multilabel_confusion_matrix"
      ]
    },
    {
      "cell_type": "code",
      "execution_count": 201,
      "metadata": {},
      "outputs": [
        {
          "name": "stdout",
          "output_type": "stream",
          "text": [
            "                  precision    recall  f1-score   support\n",
            "\n",
            " antelope_duiker       0.06      0.07      0.07       107\n",
            "            bird       0.14      0.15      0.14       235\n",
            "           blank       0.05      0.07      0.06        88\n",
            "     civet_genet       0.14      0.24      0.17       202\n",
            "             hog       0.08      0.01      0.02       188\n",
            "         leopard       0.14      0.17      0.15       278\n",
            "monkey_prosimian       0.20      0.16      0.18       310\n",
            "          rodent       0.13      0.10      0.12       242\n",
            "\n",
            "        accuracy                           0.13      1650\n",
            "       macro avg       0.12      0.12      0.11      1650\n",
            "    weighted avg       0.13      0.13      0.13      1650\n",
            "\n"
          ]
        }
      ],
      "source": [
        "print(classification_report(val_labels, val_preds_class_1D, target_names=label_names))"
      ]
    },
    {
      "cell_type": "code",
      "execution_count": 202,
      "metadata": {},
      "outputs": [
        {
          "data": {
            "text/plain": [
              "{'antelope_duiker': array([[1414,  129],\n",
              "        [  99,    8]], dtype=int64),\n",
              " 'bird': array([[1201,  214],\n",
              "        [ 200,   35]], dtype=int64),\n",
              " 'blank': array([[1453,  109],\n",
              "        [  82,    6]], dtype=int64),\n",
              " 'civet_genet': array([[1145,  303],\n",
              "        [ 154,   48]], dtype=int64),\n",
              " 'hog': array([[1439,   23],\n",
              "        [ 186,    2]], dtype=int64),\n",
              " 'leopard': array([[1085,  287],\n",
              "        [ 232,   46]], dtype=int64),\n",
              " 'monkey_prosimian': array([[1138,  202],\n",
              "        [ 259,   51]], dtype=int64),\n",
              " 'rodent': array([[1246,  162],\n",
              "        [ 217,   25]], dtype=int64)}"
            ]
          },
          "execution_count": 202,
          "metadata": {},
          "output_type": "execute_result"
        }
      ],
      "source": [
        "multi_confmatrix = {label_names[i]:matrix for i, matrix in enumerate(multilabel_confusion_matrix(val_labels, val_preds_class_1D))}\n",
        "multi_confmatrix"
      ]
    },
    {
      "cell_type": "code",
      "execution_count": 204,
      "metadata": {},
      "outputs": [
        {
          "data": {
            "image/png": "[encoded data removed]",
            "text/plain": [
              "<Figure size 432x288 with 2 Axes>"
            ]
          },
          "metadata": {
            "needs_background": "light"
          },
          "output_type": "display_data"
        }
      ],
      "source": [
        "ConfusionMatrixDisplay.from_predictions(val_labels, val_preds_class_1D)\n",
        "#plt.savefig('../images/multi_confusion_matrix.png')"
      ]
    }
  ],
  "metadata": {
    "accelerator": "GPU",
    "colab": {
      "background_execution": "on",
      "collapsed_sections": [],
      "machine_shape": "hm",
      "name": "EfficientNet_Model_with_EarlyStop_ImageAugmentation.ipynb",
      "provenance": []
    },
    "interpreter": {
      "hash": "7b3e7e8a4a5f0486f7702e6e9315df710c0c50597ed0251318561697501aee95"
    },
    "kernelspec": {
      "display_name": "Python 3.9.12 ('tensorflow')",
      "language": "python",
      "name": "python3"
    },
    "language_info": {
      "codemirror_mode": {
        "name": "ipython",
        "version": 3
      },
      "file_extension": ".py",
      "mimetype": "text/x-python",
      "name": "python",
      "nbconvert_exporter": "python",
      "pygments_lexer": "ipython3",
      "version": "3.9.12"
    }
  },
  "nbformat": 4,
  "nbformat_minor": 0
}
